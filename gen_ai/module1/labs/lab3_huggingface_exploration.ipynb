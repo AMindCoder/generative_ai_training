{
 "cells": [
  {
   "cell_type": "markdown",
   "metadata": {},
   "source": [
    "# Lab 3: Exploring Hugging Face Transformers\n",
    "\n",
    "## Objectives\n",
    "- Learn to use the Hugging Face `transformers` library\n",
    "- Explore different pre-trained models\n",
    "- Understand model loading and inference\n",
    "- Perform basic NLP tasks using transformers\n",
    "\n",
    "## Prerequisites\n",
    "- Completed Labs 1 and 2\n",
    "- Basic understanding of transformers architecture"
   ]
  },
  {
   "cell_type": "code",
   "execution_count": null,
   "metadata": {},
   "outputs": [],
   "source": [
    "import torch\n",
    "from transformers import (\n",
    "    AutoTokenizer,\n",
    "    AutoModelForSequenceClassification,\n",
    "    AutoModelForCausalLM,\n",
    "    pipeline\n",
    ")\n",
    "\n",
    "print(f\"PyTorch version: {torch.__version__}\")\n",
    "print(f\"CUDA available: {torch.cuda.is_available()}\")"
   ]
  },
  {
   "cell_type": "markdown",
   "metadata": {},
   "source": [
    "## 1. Text Classification with Transformers"
   ]
  },
  {
   "cell_type": "code",
   "execution_count": null,
   "metadata": {},
   "outputs": [],
   "source": [
    "def analyze_sentiment(text):\n",
    "    classifier = pipeline(\"sentiment-analysis\")\n",
    "    result = classifier(text)\n",
    "    return result[0]\n",
    "\n",
    "# Test with different texts\n",
    "texts = [\n",
    "    \"I love working with transformers, they're amazing!\",\n",
    "    \"This code is quite confusing and difficult to understand.\",\n",
    "    \"The weather is nice today.\"\n",
    "]\n",
    "\n",
    "for text in texts:\n",
    "    sentiment = analyze_sentiment(text)\n",
    "    print(f\"Text: {text}\")\n",
    "    print(f\"Sentiment: {sentiment['label']}, Score: {sentiment['score']:.3f}\\n\")"
   ]
  },
  {
   "cell_type": "markdown",
   "metadata": {},
   "source": [
    "## 2. Text Generation with GPT-2"
   ]
  },
  {
   "cell_type": "code",
   "execution_count": null,
   "metadata": {},
   "outputs": [],
   "source": [
    "def generate_text(prompt, max_length=100):\n",
    "    generator = pipeline('text-generation', model='gpt2')\n",
    "    result = generator(prompt, max_length=max_length, num_return_sequences=1)\n",
    "    return result[0]['generated_text']\n",
    "\n",
    "# Test text generation\n",
    "prompt = \"In the future, artificial intelligence will\"\n",
    "generated_text = generate_text(prompt)\n",
    "print(f\"Generated text:\\n{generated_text}\")"
   ]
  },
  {
   "cell_type": "markdown",
   "metadata": {},
   "source": [
    "## 3. Named Entity Recognition (NER)"
   ]
  },
  {
   "cell_type": "code",
   "execution_count": null,
   "metadata": {},
   "outputs": [],
   "source": [
    "def extract_entities(text):\n",
    "    ner = pipeline(\"ner\")\n",
    "    entities = ner(text)\n",
    "    \n",
    "    # Group overlapping entities\n",
    "    merged_entities = []\n",
    "    current_entity = None\n",
    "    \n",
    "    for entity in entities:\n",
    "        if current_entity is None:\n",
    "            current_entity = entity\n",
    "        elif entity['start'] <= current_entity['end']:\n",
    "            if entity['score'] > current_entity['score']:\n",
    "                current_entity = entity\n",
    "        else:\n",
    "            merged_entities.append(current_entity)\n",
    "            current_entity = entity\n",
    "    \n",
    "    if current_entity is not None:\n",
    "        merged_entities.append(current_entity)\n",
    "    \n",
    "    return merged_entities\n",
    "\n",
    "# Test NER\n",
    "text = \"Apple CEO Tim Cook announced new AI features at their headquarters in Cupertino, California.\"\n",
    "entities = extract_entities(text)\n",
    "\n",
    "print(\"Found entities:\")\n",
    "for entity in entities:\n",
    "    print(f\"- {entity['word']}: {entity['entity']} (confidence: {entity['score']:.3f})\")"
   ]
  },
  {
   "cell_type": "markdown",
   "metadata": {},
   "source": [
    "## 4. Zero-shot Classification"
   ]
  },
  {
   "cell_type": "code",
   "execution_count": null,
   "metadata": {},
   "outputs": [],
   "source": [
    "def classify_text(text, labels):\n",
    "    classifier = pipeline(\"zero-shot-classification\")\n",
    "    result = classifier(text, labels)\n",
    "    return result\n",
    "\n",
    "# Test zero-shot classification\n",
    "text = \"This new smartphone has an amazing camera and great battery life.\"\n",
    "labels = [\"technology\", \"photography\", \"battery\", \"design\"]\n",
    "\n",
    "result = classify_text(text, labels)\n",
    "print(f\"Text: {text}\\n\")\n",
    "print(\"Classifications:\")\n",
    "for label, score in zip(result['labels'], result['scores']):\n",
    "    print(f\"- {label}: {score:.3f}\")"
   ]
  },
  {
   "cell_type": "markdown",
   "metadata": {},
   "source": [
    "## 5. Custom Model Loading and Inference"
   ]
  },
  {
   "cell_type": "code",
   "execution_count": null,
   "metadata": {},
   "outputs": [],
   "source": [
    "def load_custom_model(model_name):\n",
    "    tokenizer = AutoTokenizer.from_pretrained(model_name)\n",
    "    model = AutoModelForSequenceClassification.from_pretrained(model_name)\n",
    "    return tokenizer, model\n",
    "\n",
    "def predict_with_custom_model(text, model_name=\"distilbert-base-uncased-finetuned-sst-2-english\"):\n",
    "    tokenizer, model = load_custom_model(model_name)\n",
    "    \n",
    "    inputs = tokenizer(text, return_tensors=\"pt\", truncation=True, padding=True)\n",
    "    outputs = model(**inputs)\n",
    "    predictions = torch.nn.functional.softmax(outputs.logits, dim=-1)\n",
    "    \n",
    "    return predictions.detach().numpy()\n",
    "\n",
    "# Test custom model\n",
    "text = \"This is one of the best courses I've ever taken!\"\n",
    "predictions = predict_with_custom_model(text)\n",
    "print(f\"Prediction scores: {predictions[0]}\")"
   ]
  },
  {
   "cell_type": "markdown",
   "metadata": {},
   "source": [
    "## Exercises\n",
    "\n",
    "1. Implement a multi-lingual sentiment analysis system using Hugging Face models\n",
    "2. Create a text summarization pipeline using a pre-trained model\n",
    "3. Build a question-answering system using the transformers pipeline\n",
    "4. Experiment with different model architectures and compare their performance\n",
    "\n",
    "## Next Steps\n",
    "- Explore model fine-tuning\n",
    "- Learn about model quantization and optimization\n",
    "- Try more advanced NLP tasks\n",
    "- Experiment with different model architectures"
   ]
  }
 ],
 "metadata": {
  "kernelspec": {
   "display_name": "Python 3",
   "language": "python",
   "name": "python3"
  },
  "language_info": {
   "codemirror_mode": {
    "name": "ipython",
    "version": 3
   },
   "file_extension": ".py",
   "mimetype": "text/x-python",
   "name": "python",
   "nbconvert_exporter": "python",
   "pygments_lexer": "ipython3",
   "version": "3.10.0"
  }
 },
 "nbformat": 4,
 "nbformat_minor": 4
}
