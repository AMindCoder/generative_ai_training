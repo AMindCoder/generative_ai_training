{
 "cells": [
  {
   "cell_type": "markdown",
   "metadata": {},
   "source": [
    "# Module 2: Basic Regex Patterns\n",
    "\n",
    "In this notebook, we'll explore the fundamentals of regular expressions in Python, including pattern matching, metacharacters, and basic regex functions."
   ]
  },
  {
   "cell_type": "code",
   "execution_count": null,
   "metadata": {},
   "source": [
    "import re"
   ]
  },
  {
   "cell_type": "markdown",
   "metadata": {},
   "source": [
    "## 1. Matching Literal Characters\n",
    "\n",
    "The simplest form of pattern matching is searching for exact text matches."
   ]
  },
  {
   "cell_type": "code",
   "execution_count": null,
   "metadata": {},
   "source": [
    "# Example of literal character matching\n",
    "text = \"Hello, Python!\"\n",
    "pattern = \"Python\"\n",
    "\n",
    "# Using re.search() to find the pattern\n",
    "match = re.search(pattern, text)\n",
    "print(f\"Pattern found: {match is not None}\")\n",
    "if match:\n",
    "    print(f\"Found at position: {match.start()}-{match.end()}\")"
   ]
  },
  {
   "cell_type": "markdown",
   "metadata": {},
   "source": [
    "## 2. Understanding Metacharacters\n",
    "\n",
    "Metacharacters are special characters in regex that have specific meanings:\n",
    "- `.` - Matches any character except newline\n",
    "- `^` - Matches start of string\n",
    "- `$` - Matches end of string\n",
    "- `*` - Matches 0 or more repetitions\n",
    "- `+` - Matches 1 or more repetitions\n",
    "- `?` - Matches 0 or 1 repetition\n",
    "- `{}` - Specifies exact number of repetitions\n",
    "- `[]` - Defines a character set\n",
    "- `\\` - Escapes special characters\n",
    "- `|` - Alternation (OR)\n",
    "- `()` - Groups patterns"
   ]
  },
  {
   "cell_type": "code",
   "execution_count": null,
   "metadata": {},
   "source": [
    "# Examples of metacharacters\n",
    "\n",
    "# . (dot) - matches any character\n",
    "print(\"Dot pattern:\")\n",
    "text = \"cat, hat, rat\"\n",
    "pattern = \".at\"\n",
    "matches = re.findall(pattern, text)\n",
    "print(f\"Words ending in 'at': {matches}\")\n",
    "\n",
    "# [] - character set\n",
    "print(\"\\nCharacter set:\")\n",
    "pattern = \"[chr]at\"\n",
    "matches = re.findall(pattern, text)\n",
    "print(f\"Words starting with c, h, or r: {matches}\")\n",
    "\n",
    "# * - zero or more occurrences\n",
    "print(\"\\nZero or more occurrences:\")\n",
    "text = \"ca cat caat caaat\"\n",
    "pattern = \"ca*t\"\n",
    "matches = re.findall(pattern, text)\n",
    "print(f\"Matching 'ca*t': {matches}\")"
   ]
  },
  {
   "cell_type": "markdown",
   "metadata": {},
   "source": [
    "## 3. Using re.search() and re.match()\n",
    "\n",
    "- `re.search()`: Searches for a pattern anywhere in the string\n",
    "- `re.match()`: Matches pattern at the beginning of the string"
   ]
  },
  {
   "cell_type": "code",
   "execution_count": null,
   "metadata": {},
   "source": [
    "text = \"Python is awesome!\"\n",
    "\n",
    "# re.search() example\n",
    "search_result = re.search(r\"awesome\", text)\n",
    "print(f\"search() found 'awesome': {search_result is not None}\")\n",
    "\n",
    "# re.match() example\n",
    "match_result1 = re.match(r\"Python\", text)\n",
    "match_result2 = re.match(r\"awesome\", text)\n",
    "\n",
    "print(f\"match() found 'Python' at start: {match_result1 is not None}\")\n",
    "print(f\"match() found 'awesome' at start: {match_result2 is not None}\")"
   ]
  },
  {
   "cell_type": "markdown",
   "metadata": {},
   "source": [
    "## Practice Problems\n",
    "\n",
    "Try solving these exercises to practice what you've learned:"
   ]
  },
  {
   "cell_type": "code",
   "execution_count": null,
   "metadata": {},
   "source": [
    "# Exercise 1: Match all email addresses in the text\n",
    "text = \"Contact us at: support@example.com or sales@company.com\"\n",
    "# Your code here - create a pattern to match email addresses\n",
    "\n",
    "# Exercise 2: Find all words that start with 'p' or 'P'\n",
    "text = \"Python programming is powerful and practical\"\n",
    "# Your code here - create a pattern to match words starting with p/P\n",
    "\n",
    "# Exercise 3: Match phone numbers in format XXX-XXX-XXXX\n",
    "text = \"Call us: 123-456-7890 or 987-654-3210\"\n",
    "# Your code here - create a pattern to match phone numbers"
   ]
  },
  {
   "cell_type": "markdown",
   "metadata": {},
   "source": [
    "### Solutions"
   ]
  },
  {
   "cell_type": "code",
   "execution_count": null,
   "metadata": {},
   "source": [
    "# Solution 1: Email addresses\n",
    "text = \"Contact us at: support@example.com or sales@company.com\"\n",
    "email_pattern = r'[\\w\\.-]+@[\\w\\.-]+\\.[a-zA-Z]{2,}'\n",
    "emails = re.findall(email_pattern, text)\n",
    "print(f\"Found emails: {emails}\")\n",
    "\n",
    "# Solution 2: Words starting with p/P\n",
    "text = \"Python programming is powerful and practical\"\n",
    "p_pattern = r'\\b[pP]\\w+'\n",
    "p_words = re.findall(p_pattern, text)\n",
    "print(f\"\\nWords starting with p/P: {p_words}\")\n",
    "\n",
    "# Solution 3: Phone numbers\n",
    "text = \"Call us: 123-456-7890 or 987-654-3210\"\n",
    "phone_pattern = r'\\d{3}-\\d{3}-\\d{4}'\n",
    "phone_numbers = re.findall(phone_pattern, text)\n",
    "print(f\"\\nPhone numbers: {phone_numbers}\")"
   ]
  }
 ],
 "metadata": {
  "kernelspec": {
   "display_name": "Python 3",
   "language": "python",
   "name": "python3"
  },
  "language_info": {
   "codemirror_mode": {
    "name": "ipython",
    "version": 3
   },
   "file_extension": ".py",
   "mimetype": "text/x-python",
   "name": "python",
   "nbconvert_exporter": "python",
   "pygments_lexer": "ipython3",
   "version": "3.8.0"
  }
 },
 "nbformat": 4,
 "nbformat_minor": 4
}
