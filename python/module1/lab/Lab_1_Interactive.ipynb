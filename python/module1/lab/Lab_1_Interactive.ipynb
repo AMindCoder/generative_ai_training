{
 "cells": [
  {
   "cell_type": "markdown",
   "metadata": {},
   "source": [
    "# Module 1: Python Basics - Interactive Lab\n",
    "\n",
    "Welcome to the interactive lab session! This notebook contains hands-on exercises that will help you practice Python basics in a fun and engaging way.\n",
    "\n",
    "## How to Use This Notebook\n",
    "1. Read the problem description carefully\n",
    "2. Try to solve it in the provided code cell\n",
    "3. Run the cell to see if your solution works\n",
    "4. Check the solution in the next cell\n",
    "5. Compare your approach with the solution"
   ]
  },
  {
   "cell_type": "markdown",
   "metadata": {},
   "source": [
    "## Lab 1: Personal Expense Tracker 🧾\n",
    "\n",
    "### Problem\n",
    "Create a program that helps track daily expenses. The program should:\n",
    "1. Store expenses in different categories\n",
    "2. Calculate total expenses\n",
    "3. Compare with a budget\n",
    "4. Show a summary\n",
    "\n",
    "### Your Turn"
   ]
  },
  {
   "cell_type": "code",
   "execution_count": null,
   "metadata": {},
   "outputs": [],
   "source": [
    "# Try to create the expense tracker here\n",
    "daily_expenses = {\n",
    "    'breakfast': 0,\n",
    "    'lunch': 0,\n",
    "    'dinner': 0,\n",
    "    'transport': 0,\n",
    "    'entertainment': 0\n",
    "}\n",
    "\n",
    "# Your code here\n"
   ]
  },
  {
   "cell_type": "markdown",
   "metadata": {},
   "source": [
    "### Solution"
   ]
  },
  {
   "cell_type": "code",
   "execution_count": 1,
   "metadata": {},
   "outputs": [
    {
     "name": "stdout",
     "output_type": "stream",
     "text": [
      "\n",
      "=== Daily Expense Summary ===\n",
      "Breakfast: $10.00\n",
      "Lunch: $20.00\n",
      "Dinner: $30.00\n",
      "Transport: $50.00\n",
      "Entertainment: $100.00\n",
      "\n",
      "Total Expenses: $210.00\n",
      "Daily Budget: $50.00\n",
      "Warning: Over budget by $160.00!\n"
     ]
    }
   ],
   "source": [
    "def track_expenses():\n",
    "    daily_expenses = {\n",
    "        'breakfast': 0,\n",
    "        'lunch': 0,\n",
    "        'dinner': 0,\n",
    "        'transport': 0,\n",
    "        'entertainment': 0\n",
    "    }\n",
    "    \n",
    "    # Get expenses from user\n",
    "    for category in daily_expenses:\n",
    "        while True:\n",
    "            try:\n",
    "                amount = float(input(f\"Enter {category} expense: $\"))\n",
    "                if amount >= 0:\n",
    "                    daily_expenses[category] = amount\n",
    "                    break\n",
    "                else:\n",
    "                    print(\"Please enter a positive amount\")\n",
    "            except ValueError:\n",
    "                print(\"Please enter a valid number\")\n",
    "    \n",
    "    # Calculate total\n",
    "    total = sum(daily_expenses.values())\n",
    "    \n",
    "    # Check against budget\n",
    "    daily_budget = 50  # Example budget\n",
    "    \n",
    "    # Print summary\n",
    "    print(\"\\n=== Daily Expense Summary ===\")\n",
    "    for category, amount in daily_expenses.items():\n",
    "        print(f\"{category.capitalize()}: ${amount:.2f}\")\n",
    "    print(f\"\\nTotal Expenses: ${total:.2f}\")\n",
    "    print(f\"Daily Budget: ${daily_budget:.2f}\")\n",
    "    \n",
    "    if total > daily_budget:\n",
    "        print(f\"Warning: Over budget by ${total - daily_budget:.2f}!\")\n",
    "    else:\n",
    "        print(f\"Good job! Under budget by ${daily_budget - total:.2f}\")\n",
    "\n",
    "# Run the tracker\n",
    "track_expenses()"
   ]
  },
  {
   "cell_type": "markdown",
   "metadata": {},
   "source": [
    "## Lab 2: Temperature Converter 🌡️\n",
    "\n",
    "### Problem\n",
    "Create a temperature converter that:\n",
    "1. Converts between Celsius and Fahrenheit\n",
    "2. Provides weather description\n",
    "3. Handles invalid inputs\n",
    "\n",
    "### Your Turn"
   ]
  },
  {
   "cell_type": "code",
   "execution_count": null,
   "metadata": {},
   "outputs": [],
   "source": [
    "# Create your temperature converter here\n",
    "def celsius_to_fahrenheit(celsius):\n",
    "    # Your code here\n",
    "    pass\n",
    "\n",
    "def fahrenheit_to_celsius(fahrenheit):\n",
    "    # Your code here\n",
    "    pass\n",
    "\n",
    "# Test your functions\n"
   ]
  },
  {
   "cell_type": "markdown",
   "metadata": {},
   "source": [
    "### Solution"
   ]
  },
  {
   "cell_type": "code",
   "execution_count": null,
   "metadata": {},
   "outputs": [],
   "source": [
    "def celsius_to_fahrenheit(celsius):\n",
    "    return (celsius * 9/5) + 32\n",
    "\n",
    "def fahrenheit_to_celsius(fahrenheit):\n",
    "    return (fahrenheit - 32) * 5/9\n",
    "\n",
    "def get_weather_description(celsius):\n",
    "    if celsius < 0:\n",
    "        return \"Freezing cold!\"\n",
    "    elif celsius < 10:\n",
    "        return \"Cold\"\n",
    "    elif celsius < 20:\n",
    "        return \"Mild\"\n",
    "    elif celsius < 30:\n",
    "        return \"Warm\"\n",
    "    else:\n",
    "        return \"Hot!\"\n",
    "\n",
    "# Test the functions\n",
    "temp_c = 25\n",
    "temp_f = celsius_to_fahrenheit(temp_c)\n",
    "description = get_weather_description(temp_c)\n",
    "\n",
    "print(f\"{temp_c}°C is {temp_f:.1f}°F\")\n",
    "print(f\"Weather description: {description}\")\n",
    "\n",
    "# Convert back to Celsius\n",
    "temp_c_back = fahrenheit_to_celsius(temp_f)\n",
    "print(f\"{temp_f:.1f}°F is {temp_c_back:.1f}°C\")"
   ]
  }
 ],
 "metadata": {
  "kernelspec": {
   "display_name": "Python 3",
   "language": "python",
   "name": "python3"
  },
  "language_info": {
   "codemirror_mode": {
    "name": "ipython",
    "version": 3
   },
   "file_extension": ".py",
   "mimetype": "text/x-python",
   "name": "python",
   "nbconvert_exporter": "python",
   "pygments_lexer": "ipython3",
   "version": "3.11.4"
  }
 },
 "nbformat": 4,
 "nbformat_minor": 4
}
