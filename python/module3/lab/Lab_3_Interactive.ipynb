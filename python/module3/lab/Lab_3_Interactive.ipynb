{
 "cells": [
  {
   "cell_type": "markdown",
   "metadata": {},
   "source": [
    "# Module 3: Object-Oriented Programming - Interactive Lab\n",
    "\n",
    "Welcome to the interactive lab session! This notebook contains hands-on exercises that will help you practice Object-Oriented Programming in Python.\n",
    "\n",
    "## How to Use This Notebook\n",
    "1. Read the problem description carefully\n",
    "2. Try to solve it in the provided code cell\n",
    "3. Run the cell to see if your solution works\n",
    "4. Check the solution in the next cell\n",
    "5. Compare your approach with the solution"
   ]
  },
  {
   "cell_type": "markdown",
   "metadata": {},
   "source": [
    "## Lab 1: Shopping List Manager 🛒\n",
    "\n",
    "### Problem\n",
    "Create a shopping list manager class that can:\n",
    "1. Add items with categories\n",
    "2. Remove items\n",
    "3. Display organized list\n",
    "4. Check for duplicates\n",
    "\n",
    "### Your Turn"
   ]
  },
  {
   "cell_type": "code",
   "execution_count": null,
   "metadata": {},
   "outputs": [],
   "source": [
    "# Create your shopping list manager here\n",
    "class ShoppingList:\n",
    "    def __init__(self):\n",
    "        # Your code here\n",
    "        pass\n",
    "    \n",
    "    def add_item(self, item, category):\n",
    "        # Your code here\n",
    "        pass\n",
    "    \n",
    "    def remove_item(self, item):\n",
    "        # Your code here\n",
    "        pass\n",
    "    \n",
    "    def show_list(self):\n",
    "        # Your code here\n",
    "        pass\n",
    "\n",
    "# Test your shopping list\n"
   ]
  },
  {
   "cell_type": "markdown",
   "metadata": {},
   "source": [
    "### Solution"
   ]
  },
  {
   "cell_type": "code",
   "execution_count": null,
   "metadata": {},
   "outputs": [],
   "source": [
    "class ShoppingList:\n",
    "    def __init__(self):\n",
    "        self.items = {}  # Dictionary with category as key\n",
    "        \n",
    "    def add_item(self, item, category):\n",
    "        item = item.lower()\n",
    "        category = category.lower()\n",
    "        \n",
    "        if category not in self.items:\n",
    "            self.items[category] = []\n",
    "            \n",
    "        if item not in self.items[category]:\n",
    "            self.items[category].append(item)\n",
    "            print(f\"Added {item} to {category}\")\n",
    "        else:\n",
    "            print(f\"{item} is already in your list\")\n",
    "    \n",
    "    def remove_item(self, item):\n",
    "        item = item.lower()\n",
    "        for category in self.items:\n",
    "            if item in self.items[category]:\n",
    "                self.items[category].remove(item)\n",
    "                print(f\"Removed {item}\")\n",
    "                return\n",
    "        print(f\"{item} not found in list\")\n",
    "    \n",
    "    def show_list(self):\n",
    "        if not any(self.items.values()):\n",
    "            print(\"Shopping list is empty!\")\n",
    "            return\n",
    "            \n",
    "        print(\"\\n=== Shopping List ===\")\n",
    "        for category in sorted(self.items.keys()):\n",
    "            if self.items[category]:  # Only show categories with items\n",
    "                print(f\"\\n{category.capitalize()}:\")\n",
    "                for item in sorted(self.items[category]):\n",
    "                    print(f\"  - {item}\")\n",
    "\n",
    "# Test the shopping list\n",
    "shopping = ShoppingList()\n",
    "shopping.add_item(\"Milk\", \"Dairy\")\n",
    "shopping.add_item(\"Bread\", \"Bakery\")\n",
    "shopping.add_item(\"Yogurt\", \"Dairy\")\n",
    "shopping.show_list()\n",
    "shopping.remove_item(\"Bread\")\n",
    "shopping.show_list()"
   ]
  },
  {
   "cell_type": "markdown",
   "metadata": {},
   "source": [
    "## Practice Exercise: Grade Book 📚\n",
    "\n",
    "### Problem\n",
    "Create a GradeBook class that:\n",
    "1. Stores student names and their grades\n",
    "2. Calculates average grade\n",
    "3. Finds highest and lowest grades\n",
    "4. Shows who passed (grade >= 60) and failed\n",
    "\n",
    "The solution to this exercise is in the file `Lab_3_Exercise_Solution.ipynb`"
   ]
  },
  {
   "cell_type": "code",
   "execution_count": null,
   "metadata": {},
   "outputs": [],
   "source": [
    "# Your grade book implementation here\n",
    "class GradeBook:\n",
    "    def __init__(self):\n",
    "        # Your code here\n",
    "        pass\n"
   ]
  }
 ],
 "metadata": {
  "kernelspec": {
   "display_name": "Python 3",
   "language": "python",
   "name": "python3"
  },
  "language_info": {
   "codemirror_mode": {
    "name": "ipython",
    "version": 3
   },
   "file_extension": ".py",
   "mimetype": "text/x-python",
   "name": "python",
   "nbconvert_exporter": "python",
   "pygments_lexer": "ipython3",
   "version": "3.11.4"
  }
 },
 "nbformat": 4,
 "nbformat_minor": 4
}
