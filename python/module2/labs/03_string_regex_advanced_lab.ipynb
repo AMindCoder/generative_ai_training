{
 "cells": [
  {
   "cell_type": "markdown",
   "metadata": {},
   "source": [
    "# Advanced String Manipulation and Regular Expressions Lab\n",
    "\n",
    "This comprehensive lab covers string manipulation and regular expressions in Python, from basics to advanced concepts with practical examples."
   ]
  },
  {
   "cell_type": "code",
   "execution_count": 2,
   "metadata": {},
   "outputs": [],
   "source": [
    "import re\n",
    "from collections import Counter\n",
    "import pandas as pd  # For displaying results nicely"
   ]
  },
  {
   "cell_type": "markdown",
   "metadata": {},
   "source": [
    "## 1. Regular Expression Basics\n",
    "\n",
    "### 1.1 Basic Characters and Special Characters"
   ]
  },
  {
   "cell_type": "code",
   "execution_count": 3,
   "metadata": {},
   "outputs": [
    {
     "name": "stdout",
     "output_type": "stream",
     "text": [
      "Finding 'o': ['o', 'o', 'o', 'o']\n",
      "Finding 'q.': ['qu']\n",
      "Finding literal dots: ['.', '.']\n"
     ]
    }
   ],
   "source": [
    "# Basic character matching\n",
    "text = \"The quick brown fox jumps over the lazy dog\"\n",
    "\n",
    "# Simple character match\n",
    "print(\"Finding 'o':\", re.findall('o', text))\n",
    "\n",
    "# Dot (.) matches any character except newline\n",
    "print(\"Finding 'q.':\", re.findall('q.', text))  # Matches 'qu'\n",
    "\n",
    "# Escaping special characters\n",
    "text_with_dots = \"www.example.com\"\n",
    "print(\"Finding literal dots:\", re.findall('\\.', text_with_dots))"
   ]
  },
  {
   "cell_type": "markdown",
   "metadata": {},
   "source": [
    "### 1.2 Character Classes []"
   ]
  },
  {
   "cell_type": "code",
   "execution_count": null,
   "metadata": {},
   "outputs": [],
   "source": [
    "text = \"The year was 2024, Room A123 was empty.\"\n",
    "\n",
    "# Match any digit\n",
    "print(\"Digits:\", re.findall('[0-9]', text))\n",
    "\n",
    "# Match any uppercase letter\n",
    "print(\"Uppercase:\", re.findall('[A-Z]', text))\n",
    "\n",
    "# Match any lowercase letter\n",
    "print(\"Lowercase:\", re.findall('[a-z]', text))\n",
    "\n",
    "# Match letters and digits\n",
    "print(\"Alphanumeric:\", re.findall('[A-Za-z0-9]', text))\n",
    "\n",
    "# Negation - match anything except digits\n",
    "print(\"Non-digits:\", re.findall('[^0-9]', text))"
   ]
  },
  {
   "cell_type": "markdown",
   "metadata": {},
   "source": [
    "### 1.3 Quantifiers and Metacharacters"
   ]
  },
  {
   "cell_type": "code",
   "execution_count": null,
   "metadata": {},
   "outputs": [],
   "source": [
    "text = \"file1.txt file22.jpg file333.pdf\"\n",
    "\n",
    "# * (zero or more)\n",
    "print(\"Files with any digits:\", re.findall(r'file\\d*\\.\\w+', text))\n",
    "\n",
    "# + (one or more)\n",
    "print(\"Files with at least one digit:\", re.findall(r'file\\d+\\.\\w+', text))\n",
    "\n",
    "# ? (zero or one)\n",
    "print(\"Optional digit:\", re.findall(r'file\\d?\\.\\w+', text))\n",
    "\n",
    "# {n} (exactly n)\n",
    "print(\"Files with exactly 2 digits:\", re.findall(r'file\\d{2}\\.\\w+', text))\n",
    "\n",
    "# {n,m} (between n and m)\n",
    "print(\"Files with 2-3 digits:\", re.findall(r'file\\d{2,3}\\.\\w+', text))"
   ]
  },
  {
   "cell_type": "markdown",
   "metadata": {},
   "source": [
    "### 1.4 Common Metacharacter Shortcuts"
   ]
  },
  {
   "cell_type": "code",
   "execution_count": null,
   "metadata": {},
   "outputs": [],
   "source": [
    "text = \"Hello123_World! \\t\\nTesting\"\n",
    "\n",
    "# \\d - digits\n",
    "print(\"Digits:\", re.findall(r'\\d+', text))\n",
    "\n",
    "# \\w - word characters [A-Za-z0-9_]\n",
    "print(\"Word chars:\", re.findall(r'\\w+', text))\n",
    "\n",
    "# \\s - whitespace\n",
    "print(\"Whitespace:\", [repr(x) for x in re.findall(r'\\s+', text)])\n",
    "\n",
    "# \\b - word boundary\n",
    "print(\"Words starting with 'T':\", re.findall(r'\\bT\\w+', text))"
   ]
  },
  {
   "cell_type": "markdown",
   "metadata": {},
   "source": [
    "## 2. Advanced Regular Expression Concepts\n",
    "\n",
    "### 2.1 Groups and Capturing"
   ]
  },
  {
   "cell_type": "code",
   "execution_count": null,
   "metadata": {},
   "outputs": [],
   "source": [
    "# Basic grouping\n",
    "text = \"John Doe (john@example.com), Jane Smith (jane@example.com)\"\n",
    "\n",
    "# Capturing groups with ()\n",
    "pattern = r'(\\w+)\\s+(\\w+)\\s+\\((\\w+@\\w+\\.\\w+)\\)'\n",
    "matches = re.findall(pattern, text)\n",
    "\n",
    "# Convert to DataFrame for nice display\n",
    "df = pd.DataFrame(matches, columns=['First Name', 'Last Name', 'Email'])\n",
    "print(\"Captured groups:\")\n",
    "display(df)\n",
    "\n",
    "# Named groups\n",
    "pattern = r'(?P<first>\\w+)\\s+(?P<last>\\w+)\\s+\\((?P<email>\\w+@\\w+\\.\\w+)\\)'\n",
    "for match in re.finditer(pattern, text):\n",
    "    print(\"\\nNamed groups:\")\n",
    "    print(f\"First name: {match.group('first')}\")\n",
    "    print(f\"Last name: {match.group('last')}\")\n",
    "    print(f\"Email: {match.group('email')}\")"
   ]
  },
  {
   "cell_type": "markdown",
   "metadata": {},
   "source": [
    "### 2.2 Lookahead and Lookbehind Assertions"
   ]
  },
  {
   "cell_type": "code",
   "execution_count": null,
   "metadata": {},
   "outputs": [],
   "source": [
    "text = \"price: $100, discount: $20, total: $80\"\n",
    "\n",
    "# Positive lookahead (?=...)\n",
    "print(\"Numbers followed by dollars:\", re.findall(r'\\d+(?=\\$)', text))\n",
    "\n",
    "# Negative lookahead (?!...)\n",
    "print(\"Numbers not followed by dollars:\", re.findall(r'\\d+(?!\\$)', text))\n",
    "\n",
    "# Positive lookbehind (?<=...)\n",
    "print(\"Numbers after dollar sign:\", re.findall(r'(?<=\\$)\\d+', text))\n",
    "\n",
    "# Negative lookbehind (?<!...)\n",
    "print(\"Numbers not after dollar sign:\", re.findall(r'(?<!\\$)\\d+', text))"
   ]
  },
  {
   "cell_type": "markdown",
   "metadata": {},
   "source": [
    "### 2.3 Greedy vs Non-Greedy Matching"
   ]
  },
  {
   "cell_type": "code",
   "execution_count": null,
   "metadata": {},
   "outputs": [],
   "source": [
    "text = \"<div>First</div><div>Second</div>\"\n",
    "\n",
    "# Greedy matching (default)\n",
    "print(\"Greedy:\", re.findall(r'<div>.*</div>', text))\n",
    "\n",
    "# Non-greedy matching (adding ?)\n",
    "print(\"Non-greedy:\", re.findall(r'<div>.*?</div>', text))\n",
    "\n",
    "# More examples\n",
    "text = \"aaaa\"\n",
    "print(\"Greedy a*:\", re.findall(r'a*', text))\n",
    "print(\"Non-greedy a*?:\", re.findall(r'a*?', text))"
   ]
  },
  {
   "cell_type": "markdown",
   "metadata": {},
   "source": [
    "## 3. Practical Applications\n",
    "\n",
    "### 3.1 Email Validation"
   ]
  },
  {
   "cell_type": "code",
   "execution_count": null,
   "metadata": {},
   "outputs": [],
   "source": [
    "def validate_email(email):\n",
    "    \"\"\"Validate email with comprehensive pattern\"\"\"\n",
    "    pattern = r'^[a-zA-Z0-9._%+-]+@[a-zA-Z0-9.-]+\\.[a-zA-Z]{2,}$'\n",
    "    return bool(re.match(pattern, email))\n",
    "\n",
    "# Test cases\n",
    "test_emails = [\n",
    "    \"user@example.com\",\n",
    "    \"user.name+tag@example.co.uk\",\n",
    "    \"invalid.email@\",\n",
    "    \"@invalid.com\",\n",
    "    \"user@.com\",\n",
    "    \"user@example..com\"\n",
    "]\n",
    "\n",
    "for email in test_emails:\n",
    "    print(f\"{email}: {'Valid' if validate_email(email) else 'Invalid'}\")"
   ]
  },
  {
   "cell_type": "markdown",
   "metadata": {},
   "source": [
    "### 3.2 Log File Analysis"
   ]
  },
  {
   "cell_type": "code",
   "execution_count": null,
   "metadata": {},
   "outputs": [],
   "source": [
    "log_data = \"\"\"\n",
    "2024-02-06 10:15:30 INFO User 'admin' logged in from 192.168.1.100\n",
    "2024-02-06 10:15:35 ERROR Failed login attempt from 10.0.0.50\n",
    "2024-02-06 10:16:00 WARNING High CPU usage detected (85%)\n",
    "2024-02-06 10:16:30 INFO Database backup completed\n",
    "\"\"\"\n",
    "\n",
    "# Parse log entries\n",
    "pattern = r'(\\d{4}-\\d{2}-\\d{2} \\d{2}:\\d{2}:\\d{2}) (\\w+) (.+)'\n",
    "\n",
    "log_entries = []\n",
    "for match in re.finditer(pattern, log_data):\n",
    "    timestamp, level, message = match.groups()\n",
    "    log_entries.append({\n",
    "        'timestamp': timestamp,\n",
    "        'level': level,\n",
    "        'message': message\n",
    "    })\n",
    "\n",
    "# Display as DataFrame\n",
    "df = pd.DataFrame(log_entries)\n",
    "display(df)\n",
    "\n",
    "# Extract IP addresses\n",
    "ip_pattern = r'\\b(?:\\d{1,3}\\.){3}\\d{1,3}\\b'\n",
    "ip_addresses = re.findall(ip_pattern, log_data)\n",
    "print(\"\\nIP addresses found:\", ip_addresses)"
   ]
  },
  {
   "cell_type": "markdown",
   "metadata": {},
   "source": [
    "### 3.3 Data Extraction and Cleaning"
   ]
  },
  {
   "cell_type": "code",
   "execution_count": null,
   "metadata": {},
   "outputs": [],
   "source": [
    "# Sample messy data\n",
    "data = \"\"\"\n",
    "Product: iPhone 13    Price: $799.99   SKU: IP13-128GB\n",
    "Product: Galaxy S21   Price: $699.99   SKU: SAM-S21-256\n",
    "Product: Pixel 6      Price: $599.99   SKU: GP6-128BLK\n",
    "\"\"\"\n",
    "\n",
    "# Extract structured data\n",
    "pattern = r'Product:\\s*([^\\n]+?)\\s+Price:\\s*\\$(\\d+\\.\\d+)\\s+SKU:\\s*(\\S+)'\n",
    "\n",
    "products = []\n",
    "for match in re.finditer(pattern, data):\n",
    "    product, price, sku = match.groups()\n",
    "    products.append({\n",
    "        'product': product.strip(),\n",
    "        'price': float(price),\n",
    "        'sku': sku\n",
    "    })\n",
    "\n",
    "# Display as DataFrame\n",
    "df = pd.DataFrame(products)\n",
    "display(df)"
   ]
  },
  {
   "cell_type": "markdown",
   "metadata": {},
   "source": [
    "## 4. Advanced Exercise: Data Validation Tool\n",
    "\n",
    "Create a comprehensive data validation tool that can:\n",
    "1. Validate various data formats (email, phone, dates, etc.)\n",
    "2. Extract and standardize data\n",
    "3. Generate validation reports"
   ]
  },
  {
   "cell_type": "code",
   "execution_count": null,
   "metadata": {},
   "outputs": [],
   "source": [
    "class DataValidator:\n",
    "    def __init__(self):\n",
    "        # Define validation patterns\n",
    "        self.patterns = {\n",
    "            'email': r'^[a-zA-Z0-9._%+-]+@[a-zA-Z0-9.-]+\\.[a-zA-Z]{2,}$',\n",
    "            'phone': r'^(\\+\\d{1,3}[- ]?)?\\(?\\d{3}\\)?[- ]?\\d{3}[- ]?\\d{4}$',\n",
    "            'date': r'^\\d{4}-(0[1-9]|1[0-2])-(0[1-9]|[12]\\d|3[01])$',\n",
    "            'url': r'^https?://(?:www\\.)?[\\w\\d\\-_]+\\.\\w{2,}(?:/[\\w\\d\\-._/?%&=]*)?$'\n",
    "        }\n",
    "    \n",
    "    def validate_field(self, field_type, value):\n",
    "        \"\"\"Validate a single field\"\"\"\n",
    "        if field_type not in self.patterns:\n",
    "            raise ValueError(f\"Unknown field type: {field_type}\")\n",
    "            \n",
    "        return bool(re.match(self.patterns[field_type], str(value)))\n",
    "    \n",
    "    def standardize_phone(self, phone):\n",
    "        \"\"\"Standardize phone number format\"\"\"\n",
    "        # Remove all non-digit characters\n",
    "        digits = re.sub(r'\\D', '', phone)\n",
    "        if len(digits) == 10:\n",
    "            return f\"({digits[:3]}) {digits[3:6]}-{digits[6:]}\"\n",
    "        return phone\n",
    "    \n",
    "    def validate_dataset(self, data):\n",
    "        \"\"\"Validate a dataset with multiple fields\"\"\"\n",
    "        results = []\n",
    "        for record in data:\n",
    "            validation = {\n",
    "                'original': record,\n",
    "                'validation': {},\n",
    "                'standardized': record.copy()\n",
    "            }\n",
    "            \n",
    "            # Validate each field\n",
    "            for field, value in record.items():\n",
    "                field_type = field.split('_')[0]  # e.g., email_address -> email\n",
    "                if field_type in self.patterns:\n",
    "                    validation['validation'][field] = self.validate_field(field_type, value)\n",
    "                    \n",
    "                    # Standardize phone numbers\n",
    "                    if field_type == 'phone' and validation['validation'][field]:\n",
    "                        validation['standardized'][field] = self.standardize_phone(value)\n",
    "            \n",
    "            results.append(validation)\n",
    "        return results\n",
    "\n",
    "# Test the validator\n",
    "validator = DataValidator()\n",
    "\n",
    "test_data = [\n",
    "    {\n",
    "        'email_address': 'user@example.com',\n",
    "        'phone_number': '123-456-7890',\n",
    "        'date_joined': '2024-02-06',\n",
    "        'website_url': 'https://example.com'\n",
    "    },\n",
    "    {\n",
    "        'email_address': 'invalid.email',\n",
    "        'phone_number': '(123) 456 7890',\n",
    "        'date_joined': '2024-13-45',\n",
    "        'website_url': 'not-a-url'\n",
    "    }\n",
    "]\n",
    "\n",
    "results = validator.validate_dataset(test_data)\n",
    "\n",
    "# Display results\n",
    "for result in results:\n",
    "    print(\"\\nOriginal Data:\", result['original'])\n",
    "    print(\"Validation Results:\", result['validation'])\n",
    "    print(\"Standardized Data:\", result['standardized'])"
   ]
  },
  {
   "cell_type": "markdown",
   "metadata": {},
   "source": [
    "## 5. Practice Exercises\n",
    "\n",
    "1. Create a function to extract all URLs from a text and validate them\n",
    "2. Build a password strength checker using regex\n",
    "3. Create a function to parse and validate different date formats\n",
    "4. Build a function to extract and categorize different types of identifiers (emails, phones, SSNs, etc.)\n",
    "\n",
    "Try implementing these exercises using the concepts learned above!"
   ]
  }
 ],
 "metadata": {
  "kernelspec": {
   "display_name": "Python 3",
   "language": "python",
   "name": "python3"
  },
  "language_info": {
   "codemirror_mode": {
    "name": "ipython",
    "version": 3
   },
   "file_extension": ".py",
   "mimetype": "text/x-python",
   "name": "python",
   "nbconvert_exporter": "python",
   "pygments_lexer": "ipython3",
   "version": "3.11.4"
  }
 },
 "nbformat": 4,
 "nbformat_minor": 4
}
