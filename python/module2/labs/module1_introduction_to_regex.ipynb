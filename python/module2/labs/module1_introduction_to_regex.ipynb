{
 "cells": [
  {
   "cell_type": "markdown",
   "metadata": {},
   "source": [
    "# Module 1: Introduction to Regular Expressions\n",
    "\n",
    "## What are Regular Expressions?\n",
    "\n",
    "Regular expressions (regex or regexp) are powerful sequences of characters that define a search pattern. Think of them as a specialized mini-language for pattern matching and text manipulation.\n",
    "\n",
    "**Key Points:**\n",
    "- Regular expressions are universal across programming languages\n",
    "- They provide a way to match patterns in text\n",
    "- They can be used for validation, searching, and text manipulation\n",
    "\n",
    "## Why Use Regular Expressions?\n",
    "\n",
    "Regular expressions solve many common text processing problems:\n",
    "\n",
    "1. **Data Validation**\n",
    "   - Email addresses\n",
    "   - Phone numbers\n",
    "   - Passwords\n",
    "   \n",
    "2. **Text Searching**\n",
    "   - Finding specific patterns\n",
    "   - Extracting information\n",
    "   \n",
    "3. **Text Manipulation**\n",
    "   - Replacing text\n",
    "   - Cleaning data\n",
    "   - Formatting strings"
   ]
  },
  {
   "cell_type": "markdown",
   "metadata": {},
   "source": [
    "## The `re` Module in Python\n",
    "\n",
    "Python's `re` module provides support for regular expressions. Let's import it and explore its basic functions:"
   ]
  },
  {
   "cell_type": "code",
   "execution_count": 3,
   "metadata": {},
   "outputs": [],
   "source": [
    "import re\n",
    "\n",
    "# The main functions we'll use:\n",
    "# re.search()  - Find first match\n",
    "# re.match()   - Match at beginning of string\n",
    "# re.findall() - Find all matches\n",
    "# re.sub()     - Replace matches"
   ]
  },
  {
   "cell_type": "markdown",
   "metadata": {},
   "source": [
    "### Basic Functions Explained\n",
    "\n",
    "1. **re.search(pattern, string)**: \n",
    "   - Scans through the string looking for a match\n",
    "   - Returns first match found\n",
    "   - Returns None if no match"
   ]
  },
  {
   "cell_type": "code",
   "execution_count": 2,
   "metadata": {},
   "outputs": [
    {
     "name": "stdout",
     "output_type": "stream",
     "text": [
      "Found 'is' at position: 7\n",
      "Found 'javascript': No\n"
     ]
    }
   ],
   "source": [
    "# Example of re.search()\n",
    "text = \"Python is awesome\"\n",
    "match = re.search(r\"is\", text)\n",
    "print(f\"Found 'is' at position: {match.start() if match else 'Not found'}\")\n",
    "\n",
    "# Try with a pattern that doesn't exist\n",
    "match = re.search(r\"javascript\", text)\n",
    "print(f\"Found 'javascript': {'Yes' if match else 'No'}\")"
   ]
  },
  {
   "cell_type": "markdown",
   "metadata": {},
   "source": [
    "2. **re.match(pattern, string)**:\n",
    "   - Attempts to match at the beginning of the string\n",
    "   - Returns None if the pattern doesn't match at the start"
   ]
  },
  {
   "cell_type": "code",
   "execution_count": 4,
   "metadata": {},
   "outputs": [
    {
     "name": "stdout",
     "output_type": "stream",
     "text": [
      "Starts with 'Python': Yes\n",
      "Starts with 'is': No\n"
     ]
    }
   ],
   "source": [
    "# Example of re.match()\n",
    "text = \"Python is awesome\"\n",
    "\n",
    "# This will match because 'Python' is at the start\n",
    "match = re.match(r\"Python\", text)\n",
    "print(f\"Starts with 'Python': {'Yes' if match else 'No'}\")\n",
    "\n",
    "# This won't match because 'is' is not at the start\n",
    "match = re.match(r\"is\", text)\n",
    "print(f\"Starts with 'is': {'Yes' if match else 'No'}\")"
   ]
  },
  {
   "cell_type": "markdown",
   "metadata": {},
   "source": [
    "3. **re.findall(pattern, string)**:\n",
    "   - Finds all non-overlapping matches in the string\n",
    "   - Returns a list of all matches"
   ]
  },
  {
   "cell_type": "code",
   "execution_count": 7,
   "metadata": {},
   "outputs": [
    {
     "name": "stdout",
     "output_type": "stream",
     "text": [
      "Found 2 occurrences of 'fox': ['fox', 'fox']\n",
      "Words in text: ['The', 'quick', 'brown', 'fox', 'jumps', 'over', 'the', 'lazy', 'fox']\n"
     ]
    }
   ],
   "source": [
    "# Example of re.findall()\n",
    "text = \"The quick brown fox jumps over the lazy fox\"\n",
    "\n",
    "# Find all occurrences of 'fox'\n",
    "matches = re.findall(r\"fox\", text)\n",
    "print(f\"Found {len(matches)} occurrences of 'fox': {matches}\")\n",
    "\n",
    "# Find all words\n",
    "words = re.findall(r\"\\w+\", text)  # \\w+ means one or more word characters\n",
    "print(f\"Words in text: {words}\")"
   ]
  },
  {
   "cell_type": "markdown",
   "metadata": {},
   "source": [
    "4. **re.sub(pattern, repl, string)**:\n",
    "   - Replaces all occurrences of the pattern with repl\n",
    "   - Returns modified string"
   ]
  },
  {
   "cell_type": "code",
   "execution_count": null,
   "metadata": {},
   "outputs": [],
   "source": [
    "# Example of re.sub()\n",
    "text = \"I love javascript and javascript is great\"\n",
    "\n",
    "# Replace 'javascript' with 'python'\n",
    "new_text = re.sub(r\"javascript\", \"python\", text)\n",
    "print(f\"Original: {text}\")\n",
    "print(f\"Modified: {new_text}\")"
   ]
  },
  {
   "cell_type": "markdown",
   "metadata": {},
   "source": [
    "## Writing Your First Regex Pattern\n",
    "\n",
    "Let's learn about basic pattern elements:\n",
    "\n",
    "1. **Literal Characters**\n",
    "   - Match exactly as they appear\n",
    "   - Case-sensitive by default"
   ]
  },
  {
   "cell_type": "code",
   "execution_count": null,
   "metadata": {},
   "outputs": [],
   "source": [
    "# Literal character matching\n",
    "text = \"Hello, World!\"\n",
    "\n",
    "# Match 'Hello'\n",
    "match = re.search(r\"Hello\", text)\n",
    "print(f\"Found 'Hello': {'Yes' if match else 'No'}\")\n",
    "\n",
    "# Case matters\n",
    "match = re.search(r\"hello\", text)\n",
    "print(f\"Found 'hello': {'Yes' if match else 'No'}\")"
   ]
  },
  {
   "cell_type": "markdown",
   "metadata": {},
   "source": [
    "2. **Special Characters**\n",
    "   - `.` - Matches any character except newline\n",
    "   - `\\w` - Matches word characters [a-zA-Z0-9_]\n",
    "   - `\\d` - Matches digits [0-9]\n",
    "   - `\\s` - Matches whitespace"
   ]
  },
  {
   "cell_type": "code",
   "execution_count": 12,
   "metadata": {},
   "outputs": [
    {
     "name": "stdout",
     "output_type": "stream",
     "text": [
      "Word characters: ['H', 'e', 'l', 'l', 'o', '1', '2', '3', 'W', 'o', 'r', 'l', 'd']\n",
      "Digits: ['1', '2', '3']\n",
      "Whitespace count: 1\n"
     ]
    }
   ],
   "source": [
    "# Special character examples\n",
    "text = \"Hello123 World!\"\n",
    "\n",
    "# Find word characters\n",
    "word_chars = re.findall(r\"\\w\", text)\n",
    "print(f\"Word characters: {word_chars}\")\n",
    "\n",
    "# Find digits\n",
    "digits = re.findall(r\"\\d\", text)\n",
    "print(f\"Digits: {digits}\")\n",
    "\n",
    "# Find whitespace\n",
    "spaces = re.findall(r\"\\s\", text)\n",
    "print(f\"Whitespace count: {len(spaces)}\")"
   ]
  },
  {
   "cell_type": "markdown",
   "metadata": {},
   "source": [
    "## Practice Exercises\n",
    "\n",
    "Try these exercises to reinforce your understanding:"
   ]
  },
  {
   "cell_type": "code",
   "execution_count": 14,
   "metadata": {},
   "outputs": [
    {
     "name": "stdout",
     "output_type": "stream",
     "text": [
      "found 4 matches of word  starting with 'p' with words as ['Python', 'programming', 'powerful', 'practical']\n"
     ]
    }
   ],
   "source": [
    "# Exercise 1: Count how many words start with 'p' (case insensitive)\n",
    "text = \"Python programming is powerful and practical and I am happy\"\n",
    "\n",
    "match = re.findall(r\"\\bp\\w+\", text, re.IGNORECASE)\n",
    "print(f\"found {len(match)} matches of word  starting with 'p' with words as {match}\")\n",
    "# Your code here\n",
    "# Hint: Use re.findall() with r\"\\bp\\w+\" and re.IGNORECASE flag"
   ]
  },
  {
   "cell_type": "code",
   "execution_count": null,
   "metadata": {},
   "outputs": [],
   "source": [
    "# Exercise 2: Extract all numbers from a string\n",
    "text = \"There are 123 apples and 456 oranges\"\n",
    "\n",
    "# Your code here\n",
    "# Hint: Use re.findall() with r\"\\d+\""
   ]
  },
  {
   "cell_type": "code",
   "execution_count": null,
   "metadata": {},
   "outputs": [],
   "source": [
    "# Exercise 3: Replace all numbers with 'X'\n",
    "text = \"My phone number is 123-456-7890\"\n",
    "\n",
    "# Your code here\n",
    "# Hint: Use re.sub() with r\"\\d\", \"X\""
   ]
  },
  {
   "cell_type": "markdown",
   "metadata": {},
   "source": [
    "## Solutions to Practice Exercises"
   ]
  },
  {
   "cell_type": "code",
   "execution_count": null,
   "metadata": {},
   "outputs": [],
   "source": [
    "# Solution 1: Count words starting with 'p'\n",
    "text = \"Python programming is powerful and practical\"\n",
    "p_words = re.findall(r\"\\bp\\w+\", text, re.IGNORECASE)\n",
    "print(f\"Words starting with 'p': {p_words}\")\n",
    "print(f\"Count: {len(p_words)}\")\n",
    "\n",
    "# Solution 2: Extract numbers\n",
    "text = \"There are 123 apples and 456 oranges\"\n",
    "numbers = re.findall(r\"\\d+\", text)\n",
    "print(f\"Numbers found: {numbers}\")\n",
    "\n",
    "# Solution 3: Replace numbers\n",
    "text = \"My phone number is 123-456-7890\"\n",
    "masked = re.sub(r\"\\d\", \"X\", text)\n",
    "print(f\"Masked text: {masked}\")"
   ]
  },
  {
   "cell_type": "markdown",
   "metadata": {},
   "source": [
    "## Summary\n",
    "\n",
    "In this module, we learned:\n",
    "1. What regular expressions are and why they're useful\n",
    "2. Basic functions in Python's `re` module\n",
    "3. How to write simple patterns\n",
    "4. How to use special characters in patterns\n",
    "\n",
    "In the next module, we'll explore more advanced pattern matching techniques including:\n",
    "- Quantifiers\n",
    "- Character classes\n",
    "- Groups and capturing\n",
    "- Assertions"
   ]
  }
 ],
 "metadata": {
  "kernelspec": {
   "display_name": "course_env",
   "language": "python",
   "name": "python3"
  },
  "language_info": {
   "codemirror_mode": {
    "name": "ipython",
    "version": 3
   },
   "file_extension": ".py",
   "mimetype": "text/x-python",
   "name": "python",
   "nbconvert_exporter": "python",
   "pygments_lexer": "ipython3",
   "version": "3.11.4"
  }
 },
 "nbformat": 4,
 "nbformat_minor": 4
}
