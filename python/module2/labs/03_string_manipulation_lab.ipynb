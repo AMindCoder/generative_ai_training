{
 "cells": [
  {
   "cell_type": "markdown",
   "metadata": {},
   "source": [
    "# String Manipulation and Regular Expressions Lab\n",
    "\n",
    "This lab will help you practice string manipulation and regular expressions in Python. Follow along with the examples and complete the exercises at the end."
   ]
  },
  {
   "cell_type": "markdown",
   "metadata": {},
   "source": [
    "## 1. String Basics and Manipulation\n",
    "\n",
    "### 1.1 String Creation and Basic Operations"
   ]
  },
  {
   "cell_type": "code",
   "execution_count": null,
   "metadata": {},
   "outputs": [],
   "source": [
    "# String creation\n",
    "single_quoted = 'Hello'\n",
    "double_quoted = \"World\"\n",
    "multi_line = '''This is a\n",
    "multi-line string'''\n",
    "\n",
    "# String concatenation\n",
    "greeting = single_quoted + ' ' + double_quoted\n",
    "repeated = 'Ha' * 3\n",
    "\n",
    "# String length\n",
    "length = len(greeting)\n",
    "\n",
    "print(f\"Greeting: {greeting}\")\n",
    "print(f\"Repeated: {repeated}\")\n",
    "print(f\"Length: {length}\")"
   ]
  },
  {
   "cell_type": "markdown",
   "metadata": {},
   "source": [
    "### 1.2 String Indexing and Slicing\n",
    "\n",
    "Try different slicing operations to understand how they work."
   ]
  },
  {
   "cell_type": "code",
   "execution_count": null,
   "metadata": {},
   "outputs": [],
   "source": [
    "text = \"Python Programming\"\n",
    "\n",
    "# Indexing\n",
    "print(f\"First character: {text[0]}\")\n",
    "print(f\"Last character: {text[-1]}\")\n",
    "\n",
    "# Slicing\n",
    "print(f\"First word: {text[0:6]}\")\n",
    "print(f\"Last word: {text[7:]}\")\n",
    "print(f\"Reversed: {text[::-1]}\")\n",
    "print(f\"Every second character: {text[::2]}\")"
   ]
  },
  {
   "cell_type": "markdown",
   "metadata": {},
   "source": [
    "### Exercise 1:\n",
    "Create different slices of the text \"Machine Learning\" to extract:\n",
    "1. Only \"Machine\"\n",
    "2. Only \"Learning\"\n",
    "3. Every third character\n",
    "4. The string in reverse"
   ]
  },
  {
   "cell_type": "code",
   "execution_count": null,
   "metadata": {},
   "outputs": [],
   "source": [
    "# Your code here\n",
    "text = \"Machine Learning\"\n"
   ]
  },
  {
   "cell_type": "markdown",
   "metadata": {},
   "source": [
    "## 2. String Methods\n",
    "\n",
    "### 2.1 Case Manipulation and Whitespace Handling"
   ]
  },
  {
   "cell_type": "code",
   "execution_count": null,
   "metadata": {},
   "outputs": [],
   "source": [
    "text = \"  Python Programming Is Fun!  \"\n",
    "\n",
    "# Case manipulation\n",
    "print(f\"Upper: {text.upper()}\")\n",
    "print(f\"Lower: {text.lower()}\")\n",
    "print(f\"Title: {text.title()}\")\n",
    "print(f\"Swapped: {text.swapcase()}\")\n",
    "\n",
    "# Whitespace handling\n",
    "print(f\"Stripped: '{text.strip()}'\")\n",
    "print(f\"Left stripped: '{text.lstrip()}'\")\n",
    "print(f\"Right stripped: '{text.rstrip()}'\")"
   ]
  },
  {
   "cell_type": "markdown",
   "metadata": {},
   "source": [
    "### 2.2 String Formatting"
   ]
  },
  {
   "cell_type": "code",
   "execution_count": null,
   "metadata": {},
   "outputs": [],
   "source": [
    "name = \"Alice\"\n",
    "age = 25\n",
    "height = 1.75\n",
    "\n",
    "# Different formatting methods\n",
    "print(\"Old style: %s is %d years old and %.2f meters tall\" % (name, age, height))\n",
    "print(\"Format method: {} is {} years old and {:.2f} meters tall\".format(name, age, height))\n",
    "print(f\"F-string: {name} is {age} years old and {height:.2f} meters tall\")\n",
    "\n",
    "# Alignment examples\n",
    "print(f\"|{name:<10}|\")\n",
    "print(f\"|{name:>10}|\")\n",
    "print(f\"|{name:^10}|\")"
   ]
  },
  {
   "cell_type": "markdown",
   "metadata": {},
   "source": [
    "## 3. Regular Expressions\n",
    "\n",
    "### 3.1 Basic Pattern Matching"
   ]
  },
  {
   "cell_type": "code",
   "execution_count": null,
   "metadata": {},
   "outputs": [],
   "source": [
    "import re\n",
    "\n",
    "text = \"Contact us at: support@example.com or sales@example.com\"\n",
    "\n",
    "# Finding email addresses\n",
    "email_pattern = r'\\b[\\w\\.-]+@[\\w\\.-]+\\.\\w+\\b'\n",
    "emails = re.findall(email_pattern, text)\n",
    "print(f\"Found emails: {emails}\")\n",
    "\n",
    "# Check if pattern exists\n",
    "has_email = re.search(email_pattern, text) is not None\n",
    "print(f\"Contains email: {has_email}\")"
   ]
  },
  {
   "cell_type": "markdown",
   "metadata": {},
   "source": [
    "### 3.2 Pattern Matching Practice"
   ]
  },
  {
   "cell_type": "code",
   "execution_count": null,
   "metadata": {},
   "outputs": [],
   "source": [
    "# Phone number patterns\n",
    "phone_text = \"Call us: 123-456-7890 or (987) 654-3210\"\n",
    "phone_patterns = [\n",
    "    r'\\d{3}-\\d{3}-\\d{4}',         # 123-456-7890\n",
    "    r'\\(\\d{3}\\)\\s\\d{3}-\\d{4}'     # (987) 654-3210\n",
    "]\n",
    "\n",
    "for pattern in phone_patterns:\n",
    "    matches = re.findall(pattern, phone_text)\n",
    "    print(f\"Pattern {pattern}: {matches}\")"
   ]
  },
  {
   "cell_type": "markdown",
   "metadata": {},
   "source": [
    "## Final Exercise: Text Analysis Tool\n",
    "\n",
    "Complete the following text analysis tool by implementing the missing methods:"
   ]
  },
  {
   "cell_type": "code",
   "execution_count": null,
   "metadata": {},
   "outputs": [],
   "source": [
    "class TextAnalyzer:\n",
    "    def __init__(self, text):\n",
    "        self.text = text\n",
    "        \n",
    "    def count_words(self):\n",
    "        # TODO: Count total number of words\n",
    "        pass\n",
    "    \n",
    "    def find_dates(self):\n",
    "        # TODO: Find all dates in formats: YYYY-MM-DD, DD/MM/YYYY, DD-Mon-YYYY\n",
    "        pass\n",
    "    \n",
    "    def find_phone_numbers(self):\n",
    "        # TODO: Find all phone numbers in formats: XXX-XXX-XXXX, (XXX) XXX-XXXX\n",
    "        pass\n",
    "    \n",
    "    def generate_report(self):\n",
    "        # TODO: Generate a report with word count, unique words, dates, and phone numbers\n",
    "        pass\n",
    "\n",
    "# Test data\n",
    "sample_text = \"\"\"\n",
    "Meeting scheduled for 2024-02-15 with John (555) 123-4567\n",
    "and Mary 987-654-3210. Follow-up meeting on 23/03/2024.\n",
    "Project deadline is 15-Mar-2024.\n",
    "\"\"\"\n",
    "\n",
    "# Create an instance and test your implementation\n",
    "analyzer = TextAnalyzer(sample_text)\n",
    "# Test your methods here"
   ]
  }
 ],
 "metadata": {
  "kernelspec": {
   "display_name": "Python 3",
   "language": "python",
   "name": "python3"
  },
  "language_info": {
   "codemirror_mode": {
    "name": "ipython",
    "version": 3
   },
   "file_extension": ".py",
   "mimetype": "text/x-python",
   "name": "python",
   "nbconvert_exporter": "python",
   "pygments_lexer": "ipython3",
   "version": "3.8.0"
  }
 },
 "nbformat": 4,
 "nbformat_minor": 4
}
