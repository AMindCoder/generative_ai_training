{
 "cells": [
  {
   "cell_type": "markdown",
   "metadata": {},
   "source": [
    "# Lab 1: Setting Up Your Generative AI Environment\n",
    "\n",
    "## Objectives\n",
    "- Set up a Python environment with required libraries\n",
    "- Configure API access for OpenAI\n",
    "- Verify the installation with basic tests\n",
    "\n",
    "## Prerequisites\n",
    "- Python 3.8+\n",
    "- OpenAI API key\n",
    "- GitHub account"
   ]
  },
  {
   "cell_type": "markdown",
   "metadata": {},
   "source": [
    "## 1. Environment Verification\n",
    "Let's check our Python environment and installed packages:"
   ]
  },
  {
   "cell_type": "code",
   "execution_count": null,
   "metadata": {},
   "outputs": [],
   "source": [
    "import sys\n",
    "print(f\"Python version: {sys.version}\")\n",
    "\n",
    "# Import and verify key packages\n",
    "import openai\n",
    "import torch\n",
    "import transformers\n",
    "import langchain\n",
    "\n",
    "print(f\"\\nPackage versions:\")\n",
    "print(f\"OpenAI: {openai.__version__}\")\n",
    "print(f\"PyTorch: {torch.__version__}\")\n",
    "print(f\"Transformers: {transformers.__version__}\")\n",
    "print(f\"LangChain: {langchain.__version__}\")"
   ]
  },
  {
   "cell_type": "markdown",
   "metadata": {},
   "source": [
    "## 2. OpenAI API Configuration\n",
    "Set up your OpenAI API key (never commit this to version control):"
   ]
  },
  {
   "cell_type": "code",
   "execution_count": null,
   "metadata": {},
   "outputs": [],
   "source": [
    "import os\n",
    "from dotenv import load_dotenv\n",
    "\n",
    "# Load environment variables from .env file\n",
    "load_dotenv()\n",
    "\n",
    "# Configure OpenAI client\n",
    "client = openai.OpenAI(\n",
    "    api_key=os.getenv('OPENAI_API_KEY')\n",
    ")"
   ]
  },
  {
   "cell_type": "markdown",
   "metadata": {},
   "source": [
    "## 3. Test OpenAI API Connection\n",
    "Let's verify our OpenAI API connection with a simple test:"
   ]
  },
  {
   "cell_type": "code",
   "execution_count": null,
   "metadata": {},
   "outputs": [],
   "source": [
    "def test_openai_connection():\n",
    "    try:\n",
    "        response = client.chat.completions.create(\n",
    "            model=\"gpt-3.5-turbo\",\n",
    "            messages=[{\"role\": \"user\", \"content\": \"Say 'Hello, World!'\"}]\n",
    "        )\n",
    "        return response.choices[0].message.content\n",
    "    except Exception as e:\n",
    "        return f\"Error: {str(e)}\"\n",
    "\n",
    "print(\"Testing OpenAI API connection...\")\n",
    "result = test_openai_connection()\n",
    "print(f\"Response: {result}\")"
   ]
  },
  {
   "cell_type": "markdown",
   "metadata": {},
   "source": [
    "## 4. Project Structure Setup\n",
    "Create a basic project structure for your future work:"
   ]
  },
  {
   "cell_type": "code",
   "execution_count": null,
   "metadata": {},
   "outputs": [],
   "source": [
    "import pathlib\n",
    "\n",
    "def create_project_structure(base_path=\"./project\"):\n",
    "    directories = [\n",
    "        \"data\",\n",
    "        \"models\",\n",
    "        \"notebooks\",\n",
    "        \"src\"\n",
    "    ]\n",
    "    \n",
    "    base = pathlib.Path(base_path)\n",
    "    for dir_name in directories:\n",
    "        (base / dir_name).mkdir(parents=True, exist_ok=True)\n",
    "        print(f\"Created directory: {dir_name}\")\n",
    "\n",
    "create_project_structure()"
   ]
  },
  {
   "cell_type": "markdown",
   "metadata": {},
   "source": [
    "## Exercise\n",
    "\n",
    "1. Create a `.env` file with your OpenAI API key\n",
    "2. Run all cells to verify your environment\n",
    "3. Create a new project structure with custom directories\n",
    "4. Write a function to test the Hugging Face `transformers` library installation\n",
    "\n",
    "## Next Steps\n",
    "- Proceed to Lab 2 to start working with the OpenAI API\n",
    "- Explore the Hugging Face model hub\n",
    "- Review the documentation for installed packages"
   ]
  }
 ],
 "metadata": {
  "kernelspec": {
   "display_name": "Python 3",
   "language": "python",
   "name": "python3"
  },
  "language_info": {
   "codemirror_mode": {
    "name": "ipython",
    "version": 3
   },
   "file_extension": ".py",
   "mimetype": "text/x-python",
   "name": "python",
   "nbconvert_exporter": "python",
   "pygments_lexer": "ipython3",
   "version": "3.10.0"
  }
 },
 "nbformat": 4,
 "nbformat_minor": 4
}
